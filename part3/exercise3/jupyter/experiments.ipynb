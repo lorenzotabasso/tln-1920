{
 "cells": [
  {
   "cell_type": "code",
   "execution_count": null,
   "metadata": {},
   "outputs": [],
   "source": [
    "import nltk\n",
    "from nltk.parse.corenlp import CoreNLPDependencyParser\n",
    "from nltk.corpus import brown\n",
    "from nltk.stem import WordNetLemmatizer\n",
    "from nltk.corpus import wordnet as wn"
   ]
  },
  {
   "cell_type": "code",
   "execution_count": null,
   "metadata": {},
   "outputs": [],
   "source": [
    "verbs = ['VB', 'VBD', 'VBG', 'VBN', 'VBP', 'VBZ']\n",
    "verb = \"meet\"  # take, put, give, get, meet\n",
    "subj_dept = ['nsubj', 'nsubjpass']\n",
    "obj_dept = ['dobj', 'iobj']\n",
    "\n",
    "\n",
    "def text_extraction():\n",
    "    \"\"\"\n",
    "    Analizza il Brown Corpus ed estrae le frasi contenenti il verbo desiderato\n",
    "    :return: lista di frasi (ogni frase è una lista di parole)\n",
    "    \"\"\"\n",
    "\n",
    "    lemmatizer = WordNetLemmatizer()\n",
    "    list_sent = brown.sents()\n",
    "    # list_sent = brown.sents(categories=['news'])\n",
    "\n",
    "    sentences = []\n",
    "    for sent in list_sent:\n",
    "        tags = dict(nltk.pos_tag(sent))\n",
    "        for word in sent:\n",
    "            if tags[word] in verbs:\n",
    "                word = lemmatizer.lemmatize(word, 'v')\n",
    "                if word == verb:\n",
    "                    sentences.append(sent)\n",
    "\n",
    "    return sentences\n",
    "\n",
    "\n",
    "v = text_extraction()\n",
    "i = 0\n",
    "for sentence in v:\n",
    "    print(\"{}, {}\\n\".format(i, sentence))\n",
    "    i += 1\n"
   ]
  },
  {
   "cell_type": "code",
   "execution_count": null,
   "metadata": {},
   "outputs": [],
   "source": [
    "wn.synset(\"play.v.03\").lexname()"
   ]
  }
 ],
 "metadata": {
  "kernelspec": {
   "display_name": "Python 3",
   "language": "python",
   "name": "python3"
  },
  "language_info": {
   "codemirror_mode": {
    "name": "ipython",
    "version": 3
   },
   "file_extension": ".py",
   "mimetype": "text/x-python",
   "name": "python",
   "nbconvert_exporter": "python",
   "pygments_lexer": "ipython3",
   "version": "3.7.6"
  }
 },
 "nbformat": 4,
 "nbformat_minor": 4
}
