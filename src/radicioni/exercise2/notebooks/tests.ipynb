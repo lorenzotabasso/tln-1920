{
 "cells": [
  {
   "cell_type": "markdown",
   "metadata": {
    "colab_type": "text",
    "id": "SMohBMkuOrtH"
   },
   "source": [
    "# Esercitazione 2 - FrameNet"
   ]
  },
  {
   "cell_type": "markdown",
   "metadata": {
    "colab_type": "text",
    "id": "gXJhv-wNOxXI"
   },
   "source": [
    "Individuazione di un insieme di frame (FrameSet) su cui lavorare."
   ]
  },
  {
   "cell_type": "code",
   "execution_count": 2,
   "metadata": {
    "colab": {
     "base_uri": "https://localhost:8080/",
     "height": 1000
    },
    "colab_type": "code",
    "executionInfo": {
     "elapsed": 2568,
     "status": "ok",
     "timestamp": 1590854887380,
     "user": {
      "displayName": "Lorenzo Tabasso",
      "photoUrl": "",
      "userId": "15302774680650616251"
     },
     "user_tz": -120
    },
    "id": "S0fZzxUiPQH8",
    "outputId": "bc364b28-4dfc-4626-8506-a04a76e843ba"
   },
   "outputs": [],
   "source": [
    "# Importing\n",
    "import nltk\n",
    "# nltk.download('all')\n",
    "# nltk.download('framenet')  # non c'è bisogno, basta chiamarlo da nltk.corpus\n",
    "\n",
    "from nltk.corpus import framenet as fn\n",
    "from nltk.corpus import wordnet as wn\n",
    "from nltk.corpus.reader.framenet import PrettyList\n",
    "\n",
    "from operator import itemgetter\n",
    "from pprint import pprint"
   ]
  },
  {
   "cell_type": "code",
   "execution_count": 3,
   "metadata": {
    "colab": {
     "base_uri": "https://localhost:8080/",
     "height": 136
    },
    "colab_type": "code",
    "executionInfo": {
     "elapsed": 780,
     "status": "ok",
     "timestamp": 1590854891926,
     "user": {
      "displayName": "Lorenzo Tabasso",
      "photoUrl": "",
      "userId": "15302774680650616251"
     },
     "user_tz": -120
    },
    "id": "sQt1PTVjN5P3",
    "outputId": "7018d2d0-a975-4afc-f86a-86746b9fe373"
   },
   "outputs": [
    {
     "name": "stdout",
     "output_type": "stream",
     "text": [
      "\n",
      "student: Tabasso\n",
      "\tID:  133\tframe: Process_start\n",
      "\tID: 2980\tframe: Transition_to_a_situation\n",
      "\tID:  405\tframe: Performing_arts\n",
      "\tID: 1927\tframe: Scope\n",
      "\tID: 2590\tframe: Business_closure\n"
     ]
    }
   ],
   "source": [
    "import hashlib\n",
    "import random\n",
    "from random import randint\n",
    "from random import seed\n",
    "\n",
    "def print_frames_with_IDs():\n",
    "    for x in fn.frames():\n",
    "        print('{}\\t{}'.format(x.ID, x.name))\n",
    "\n",
    "def get_frams_IDs():\n",
    "    return [f.ID for f in fn.frames()]   \n",
    "\n",
    "def getFrameSetForStudent(surname, list_len=5):\n",
    "    nof_frames = len(fn.frames())\n",
    "    base_idx = (abs(int(hashlib.sha512(surname.encode('utf-8')).hexdigest(), 16)) % nof_frames)\n",
    "    print('\\nstudent: ' + surname)\n",
    "    framenet_IDs = get_frams_IDs()\n",
    "    i = 0\n",
    "    offset = 0 \n",
    "    seed(1)\n",
    "    while i < list_len:\n",
    "        fID = framenet_IDs[(base_idx+offset)%nof_frames]\n",
    "        f = fn.frame(fID)\n",
    "        fNAME = f.name\n",
    "        print('\\tID: {a:4d}\\tframe: {framename}'.format(a=fID, framename=fNAME))\n",
    "        offset = randint(0, nof_frames)\n",
    "        i += 1        \n",
    "\n",
    "\n",
    "getFrameSetForStudent('Tabasso')\n",
    "\n",
    "# student: Tabasso\n",
    "# \tID:  133\tframe: Process_start\n",
    "# \tID: 2980\tframe: Transition_to_a_situation\n",
    "# \tID:  405\tframe: Performing_arts\n",
    "# \tID: 1927\tframe: Scope\n",
    "# \tID: 2590\tframe: Business_closure"
   ]
  },
  {
   "cell_type": "code",
   "execution_count": 15,
   "metadata": {
    "colab": {
     "base_uri": "https://localhost:8080/",
     "height": 1000
    },
    "colab_type": "code",
    "executionInfo": {
     "elapsed": 774,
     "status": "ok",
     "timestamp": 1590854899924,
     "user": {
      "displayName": "Lorenzo Tabasso",
      "photoUrl": "",
      "userId": "15302774680650616251"
     },
     "user_tz": -120
    },
    "id": "ZEd0G9gpSEFr",
    "outputId": "44fd6302-b027-47b7-99f7-bf072e9bc837",
    "pycharm": {
     "name": "#%%\n"
    }
   },
   "outputs": [
    {
     "name": "stdout",
     "output_type": "stream",
     "text": [
      "\u001b[92mFRAME ID, NAME\u001b[0m: 1927, Scope\n",
      "\n",
      "\u001b[92mFRAME DEFINITION:\u001b[0m\n",
      "An Event is described in terms of the diversity of entities that are affected or considered in the Event. Alternatively a Salient_entity which enables or brings about the Event can be similarly described.  'The U.S. government believes that China has not revealed the full scope of its program.' 'A key question is how U.S. deployment of ballistic missile defense will affect the pace and scope of Chinese strategic modernization.'\n",
      "\n",
      "\u001b[92mFRAME FEs:\u001b[0m\n",
      "\t\u001b[1mEvent\u001b[0m -> The state-of-affairs that affects a set of entities.\n",
      "\t\u001b[1mAttribute\u001b[0m -> The feature of an Salient_entity which is under discussion.\n",
      "\t\u001b[1mSalient_entity\u001b[0m -> The entity which enables or causes the Event being judged.\n",
      "\n",
      "\u001b[92mFRAME LUs:\u001b[0m\n",
      "\n",
      "[scope.n] lexical unit (14337): scope.n\n",
      "\n",
      "[definition]\n",
      "  FN: the number or variety of things affected or considered.\n",
      "\n",
      "[frame] Scope(1927)\n",
      "\n",
      "[POS] N\n",
      "\n",
      "[status] Needs_SCs\n",
      "\n",
      "[lexemes] scope/N\n",
      "\n",
      "[semTypes] 0 semantic types\n",
      "\n",
      "[URL] https://framenet2.icsi.berkeley.edu/fnReports/data/lu/lu14337.xml\n",
      "\n",
      "[subCorpus] 4 subcorpora\n",
      "  01-pp_of-p-(1), 02-other-matched-(1), 03-other-\n",
      "  unmatched-(1), manually-added\n",
      "\n",
      "[exemplars] 4 sentences across all subcorpora\n",
      "\n",
      "\n",
      "\n"
     ]
    }
   ],
   "source": [
    "class bcolors:\n",
    "    HEADER = '\\033[95m'\n",
    "    BLUE = '\\033[94m'\n",
    "    GREEN = '\\033[92m'\n",
    "    WARNING = '\\033[93m'\n",
    "    FAIL = '\\033[91m'\n",
    "    ENDC = '\\033[0m'\n",
    "    BOLD = '\\033[1m'\n",
    "    UNDERLINE = '\\033[4m'\n",
    "\n",
    "# Printing frames information.\n",
    "def print_frame(frameId):\n",
    "    frame = fn.frame(frameId)\n",
    "    print(\"{}FRAME ID, NAME{}: {}, {}\\n\".format(bcolors.GREEN, bcolors.ENDC, frame.ID, frame.name))\n",
    "    print(\"{}FRAME DEFINITION:{}\\n{}\\n\".format(bcolors.GREEN, bcolors.ENDC, frame.definition))\n",
    "    \n",
    "    print(\"{}FRAME FEs:{}\".format(bcolors.GREEN, bcolors.ENDC))\n",
    "    for key in frame.FE:\n",
    "         print(\"\\t{}{}{} -> {}\".format(bcolors.BOLD, frame.FE[key].name, bcolors.ENDC, frame.FE[key].definition))\n",
    "            \n",
    "    print(\"\\n{}FRAME LUs:{}\\n\".format(bcolors.GREEN, bcolors.ENDC))\n",
    "    for key in frame.lexUnit:\n",
    "#          print(\"\\t{}\".format(frame.lexUnit[key].name))\n",
    "        print(\"{}\".format(frame.lexUnit))\n",
    "\n",
    "    print(\"\")\n",
    "    \n",
    "# print_frame(133)\n",
    "# print_frame(2980)\n",
    "# print_frame(405)\n",
    "print_frame(1927)\n",
    "# print_frame(2590)  # Business_closure: chiusura di business"
   ]
  },
  {
   "cell_type": "code",
   "execution_count": 30,
   "metadata": {},
   "outputs": [
    {
     "name": "stdout",
     "output_type": "stream",
     "text": [
      "Process_start\n",
      "start.v\n",
      "FN: begin\n",
      "start\n"
     ]
    }
   ],
   "source": [
    "print(fn.lu(2655).frame.name)\n",
    "print(fn.lu(2655).name)  # verbo \"prevedere\"\n",
    "print(fn.lu(2655).definition)\n",
    "print(fn.lu(2655).lexemes[0].name)"
   ]
  },
  {
   "cell_type": "code",
   "execution_count": 103,
   "metadata": {},
   "outputs": [
    {
     "name": "stdout",
     "output_type": "stream",
     "text": [
      "Synset('stopping_point.n.01') -> the temporal end; the concluding time\n",
      "Synset('conclusion.n.08') -> the last section of a communication\n",
      "Synset('finale.n.03') -> the concluding part of any performance\n",
      "Synset('close.v.01') -> move so that an opening or passage is obstructed; make shut\n",
      "Synset('close.v.02') -> become closed\n",
      "Synset('close_up.v.01') -> cease to operate or cause to cease operating\n",
      "Synset('close.v.04') -> finish or terminate (meetings, speeches, etc.)\n",
      "Synset('conclude.v.04') -> come to a close\n",
      "Synset('close.v.06') -> complete a business deal, negotiation, or an agreement\n",
      "Synset('close.v.07') -> be priced or listed when trading stops\n",
      "Synset('close.v.08') -> engage at close quarters\n",
      "Synset('close.v.09') -> cause a window or an application to disappear on a computer desktop\n",
      "Synset('close.v.10') -> change one's body stance so that the forward shoulder and foot are closer to the intended point of impact\n",
      "Synset('close.v.11') -> come together, as if in an embrace\n",
      "Synset('close.v.12') -> draw near\n",
      "Synset('close.v.13') -> bring together all the elements or parts of\n",
      "Synset('close.v.14') -> bar access to\n",
      "Synset('close.v.15') -> fill or stop up\n",
      "Synset('close_up.v.03') -> unite or bring into contact or bring together the edges of\n",
      "Synset('close.v.17') -> finish a game in baseball by protecting a lead\n",
      "Synset('close.a.01') -> at or within a short distance in space or time or having elements near each other\n",
      "Synset('close.a.02') -> close in relevance or relationship\n",
      "Synset('near.a.01') -> not far distant in time or space or degree or circumstances\n",
      "Synset('close.s.04') -> rigorously attentive; strict and thorough\n",
      "Synset('close.s.05') -> marked by fidelity to an original\n",
      "Synset('close.s.06') -> (of a contest or contestants) evenly matched\n",
      "Synset('close.s.07') -> crowded\n",
      "Synset('airless.s.01') -> lacking fresh air\n",
      "Synset('close.s.09') -> of textiles\n",
      "Synset('close.s.10') -> strictly confined or guarded\n",
      "Synset('close.s.11') -> confined to specific persons\n",
      "Synset('close.s.12') -> fitting closely but comfortably\n",
      "Synset('close.s.13') -> used of hair or haircuts\n",
      "Synset('cheeseparing.s.01') -> giving or spending with reluctance\n",
      "Synset('close.s.15') -> inclined to secrecy or reticence about divulging information\n",
      "Synset('near.r.01') -> near in time or place or relationship\n",
      "Synset('close.r.02') -> in an attentive manner\n"
     ]
    }
   ],
   "source": [
    "word = \"close\"\n",
    "synsets = wn.synsets(word)\n",
    "for s in synsets:\n",
    "    print(\"{} -> {}\".format(s, s.definition()))\n",
    "    # performance.n.01\n",
    "\n",
    "# wn.synset('circumstances.n.01').examples()\n",
    "# Synset('circumstance.n.01'),"
   ]
  },
  {
   "cell_type": "code",
   "execution_count": null,
   "metadata": {},
   "outputs": [],
   "source": []
  }
 ],
 "metadata": {
  "colab": {
   "authorship_tag": "ABX9TyPSr5nG73ksPY7N9Nc7J7l6",
   "collapsed_sections": [],
   "name": "Untitled0.ipynb",
   "provenance": []
  },
  "kernelspec": {
   "display_name": "Python 3",
   "language": "python",
   "name": "python3"
  },
  "language_info": {
   "codemirror_mode": {
    "name": "ipython",
    "version": 3
   },
   "file_extension": ".py",
   "mimetype": "text/x-python",
   "name": "python",
   "nbconvert_exporter": "python",
   "pygments_lexer": "ipython3",
   "version": "3.7.6"
  }
 },
 "nbformat": 4,
 "nbformat_minor": 4
}
