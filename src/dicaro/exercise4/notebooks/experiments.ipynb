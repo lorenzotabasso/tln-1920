{
 "cells": [
  {
   "cell_type": "code",
   "execution_count": 2,
   "metadata": {},
   "outputs": [],
   "source": [
    "from sklearn.cluster import KMeans\n",
    "from sklearn.metrics import silhouette_score\n",
    "import numpy as np\n",
    "import collections"
   ]
  },
  {
   "cell_type": "code",
   "execution_count": 4,
   "metadata": {},
   "outputs": [
    {
     "data": {
      "text/plain": [
       "array([0.        , 0.70412415, 0.20412415, 0.41493811, 0.57305199,\n",
       "       0.15811388, 0.21320072, 0.21320072, 0.        , 0.        ,\n",
       "       0.23570226, 0.73570226, 0.        , 0.5       , 0.        ,\n",
       "       0.        , 0.5       , 0.81622777, 0.31622777, 0.23570226,\n",
       "       0.5029635 , 0.45624348, 0.68898224, 0.65811388, 0.15811388,\n",
       "       0.5       , 0.5       , 0.31725282, 0.56725282, 0.57203059,\n",
       "       0.32203059, 0.5       , 0.        , 0.72237479, 0.22237479,\n",
       "       0.31725282, 0.54085962, 0.2236068 , 0.17149859, 0.52505198,\n",
       "       0.35355339, 0.        , 0.2409996 , 0.4819992 , 0.66225829,\n",
       "       0.42125869, 0.        , 0.        , 0.19611614, 0.36761472,\n",
       "       0.17149859, 0.        , 0.20412415, 0.70412415, 0.5       ,\n",
       "       0.        , 0.        , 0.        , 0.43952454, 0.59028021,\n",
       "       0.55900396, 0.90824829, 0.        , 0.        , 0.5       ,\n",
       "       0.5       , 0.5       , 0.16666667, 0.40236893, 0.23570226,\n",
       "       0.        , 0.33419801, 0.33419801, 0.        , 0.31622777,\n",
       "       0.81622777, 0.75      , 0.47301681, 0.72277262, 0.49975581,\n",
       "       0.31622777, 0.65156306, 0.3353353 , 0.25      , 0.49618298,\n",
       "       0.24618298, 0.23570226, 0.48188524, 0.24618298, 0.19611614,\n",
       "       0.19611614, 0.26726124, 0.26726124, 0.        , 0.36324158,\n",
       "       0.36324158, 0.31990258, 0.31990258, 0.21320072, 0.40218295,\n",
       "       0.18898224, 0.20412415, 0.40024028, 0.19611614, 0.        ,\n",
       "       0.        , 0.16222142, 0.32444284, 0.42948266, 0.26726124,\n",
       "       0.        , 0.        , 0.5       , 0.65430335, 0.3086067 ,\n",
       "       0.15430335, 0.        , 0.28867513, 0.72876374, 0.        ])"
      ]
     },
     "execution_count": 4,
     "metadata": {},
     "output_type": "execute_result"
    }
   ],
   "source": [
    "test = [0., 0.70412415, 0.20412415, 0.41493811, 0.57305199, 0.15811388, 0.21320072, 0.21320072, 0., 0.,0.23570226, 0.73570226, 0., 0.5, 0., 0., 0.5, 0.81622777, 0.31622777, 0.23570226, 0.5029635 , 0.45624348, 0.68898224, 0.65811388, 0.15811388, 0.5, 0.5, 0.31725282, 0.56725282, 0.57203059, 0.32203059, 0.5, 0., 0.72237479, 0.22237479, 0.31725282, 0.54085962, 0.2236068 , 0.17149859, 0.52505198, 0.35355339, 0., 0.2409996 , 0.4819992 , 0.66225829, 0.42125869, 0., 0., 0.19611614, 0.36761472, 0.17149859, 0., 0.20412415, 0.70412415, 0.5, 0., 0., 0., 0.43952454, 0.59028021, 0.55900396, 0.90824829, 0., 0., 0.5, 0.5, 0.5, 0.16666667, 0.40236893, 0.23570226, 0., 0.33419801, 0.33419801, 0., 0.31622777, 0.81622777, 0.75, 0.47301681, 0.72277262, 0.49975581, 0.31622777, 0.65156306, 0.3353353 , 0.25, 0.49618298, 0.24618298, 0.23570226, 0.48188524, 0.24618298, 0.19611614, 0.19611614, 0.26726124, 0.26726124, 0., 0.36324158, 0.36324158, 0.31990258, 0.31990258, 0.21320072, 0.40218295, 0.18898224, 0.20412415, 0.40024028, 0.19611614, 0., 0., 0.16222142, 0.32444284, 0.42948266, 0.26726124, 0., 0., 0.5, 0.65430335, 0.3086067 , 0.15430335, 0., 0.28867513, 0.72876374, 0.]\n",
    "similarities = np.array(test)\n",
    "data = similarities.reshape(-1,1)\n",
    "similarities"
   ]
  },
  {
   "cell_type": "code",
   "execution_count": 4,
   "metadata": {},
   "outputs": [
    {
     "data": {
      "text/plain": [
       "5"
      ]
     },
     "execution_count": 4,
     "metadata": {},
     "output_type": "execute_result"
    }
   ],
   "source": [
    "# Use silhouette score to find optimal number of clusters to segment the data\n",
    "num_clusters = np.arange(2,10)\n",
    "results = {}\n",
    "for size in num_clusters:\n",
    "    model = KMeans(n_clusters = size).fit(data)\n",
    "    predictions = model.predict(data)\n",
    "    results[size] = silhouette_score(data, predictions)\n",
    "\n",
    "best_size = max(results, key=results.get)\n",
    "best_size"
   ]
  },
  {
   "cell_type": "code",
   "execution_count": 5,
   "metadata": {},
   "outputs": [
    {
     "data": {
      "text/plain": [
       "array([2, 4, 1, 3, 0, 1, 1, 1, 2, 2, 1, 4, 2, 0, 2, 2, 0, 4, 3, 1, 0, 0,\n",
       "       4, 4, 1, 0, 0, 3, 0, 0, 3, 0, 2, 4, 1, 3, 0, 1, 1, 0, 3, 2, 1, 0,\n",
       "       4, 3, 2, 2, 1, 3, 1, 2, 1, 4, 0, 2, 2, 2, 0, 0, 0, 4, 2, 2, 0, 0,\n",
       "       0, 1, 3, 1, 2, 3, 3, 2, 3, 4, 4, 0, 4, 0, 3, 4, 3, 1, 0, 1, 1, 0,\n",
       "       1, 1, 1, 1, 1, 2, 3, 3, 3, 3, 1, 3, 1, 1, 3, 1, 2, 2, 1, 3, 0, 1,\n",
       "       2, 2, 0, 4, 3, 1, 2, 3, 4, 2], dtype=int32)"
      ]
     },
     "execution_count": 5,
     "metadata": {},
     "output_type": "execute_result"
    }
   ],
   "source": [
    "kmeans = KMeans(n_clusters = best_size)\n",
    "kmeans.fit(data)\n",
    "matix_clusterized = kmeans.labels_\n",
    "matix_clusterized"
   ]
  },
  {
   "cell_type": "code",
   "execution_count": 19,
   "metadata": {},
   "outputs": [
    {
     "name": "stdout",
     "output_type": "stream",
     "text": [
      "Counter({1: 31, 0: 26, 2: 25, 3: 23, 4: 15})\n",
      "24.0\n",
      "5 6 6 2 5\n"
     ]
    },
    {
     "data": {
      "text/plain": [
       "1"
      ]
     },
     "execution_count": 19,
     "metadata": {},
     "output_type": "execute_result"
    }
   ],
   "source": [
    "count_matrix = collections.Counter(matix_clusterized)\n",
    "print(count_matrix)\n",
    "\n",
    "first_chars = len(matix_clusterized) / best_size\n",
    "print(first_chars)\n",
    "\n",
    "count_0 = 0\n",
    "count_1 = 0\n",
    "count_2 = 0\n",
    "count_3 = 0\n",
    "count_4 = 0\n",
    "\n",
    "# TODO: scorrere la finestra con la sliding window\n",
    "for i in range(int(first_chars)):\n",
    "    if matix_clusterized[i] == 0:\n",
    "        count_0 += 1\n",
    "    if matix_clusterized[i] == 1:\n",
    "        count_1 += 1\n",
    "    if matix_clusterized[i] == 2:\n",
    "        count_2 += 1\n",
    "    if matix_clusterized[i] == 3:\n",
    "        count_3 += 1\n",
    "    if matix_clusterized[i] == 4:\n",
    "        count_4 += 1\n",
    "\n",
    "print(count_0,count_1,count_2,count_3,count_4)\n",
    "\n",
    "max(count_matrix, key=count_matrix.get)"
   ]
  },
  {
   "cell_type": "code",
   "execution_count": null,
   "metadata": {},
   "outputs": [],
   "source": []
  }
 ],
 "metadata": {
  "kernelspec": {
   "display_name": "Python 3",
   "language": "python",
   "name": "python3"
  },
  "language_info": {
   "codemirror_mode": {
    "name": "ipython",
    "version": 3
   },
   "file_extension": ".py",
   "mimetype": "text/x-python",
   "name": "python",
   "nbconvert_exporter": "python",
   "pygments_lexer": "ipython3",
   "version": "3.7.6"
  }
 },
 "nbformat": 4,
 "nbformat_minor": 4
}
